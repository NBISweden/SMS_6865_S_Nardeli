{
 "cells": [
  {
   "cell_type": "code",
   "execution_count": 1,
   "id": "dec0367a-eab7-42cc-bb34-c5aad23da69b",
   "metadata": {},
   "outputs": [],
   "source": [
    "import sys\n",
    "import re\n",
    "import argparse\n",
    "import pysam\n",
    "from pyfaidx import Fasta\n",
    "from Bio.Seq import Seq\n",
    "from Bio import pairwise2"
   ]
  },
  {
   "cell_type": "raw",
   "id": "81d5d276-a995-408f-9019-a52b51ffb271",
   "metadata": {},
   "source": [
    "'''\n",
    "From first read (query_sequence) in B1_EKDL230008374_R12_Araport_Bait_R12.sorted.bam:                                                Note the lower case 't'|\n",
    "                                                                                                                                                            V\n",
    "ref_sequence  (SmB-A_AT5G44500.1)                                     CATCGACATCTTCAGACTACTAGTTTGATTCGACCCACCGATACCGTTCGTATAATGTATGCTATACGAACGGTATCACAAGTTTGtACAAAAAAGTTGG\n",
    "aso.query_sequence[aso.query_alignment_start:aso.query_alignment_end] CATCGACATCTTCAGACTACTAGTTTGATTCGACCCACCGATACCGTTCGTATAATGTATGCTATACGAACGGTATCACAAGTTTGAACAAAAAAGTTGG\n",
    "query_sequence                TCCTGTAGTTTATGAACTGTAGCATCTTGGAGCTCTTCGACATCGACATCTTCAGACTACTAGTTTGATTCGACCCACCGATACCGTTCGTATAATGTATGCTATACGAACGGTATCACAAGTTTGAACAAAAAAGTTGGACTTTATCTCCCAAAACACAAAACAAAAAAAATGGCTTCCACTGCTCTCTCAAGCGCC\n",
    "aso.query_sequence[140:] (Will match AT1G60950.1)                                                                                                                         ACTTTATCTCCCAAAACACAAAACAAAAAAAATGGCTTCCACTGCTCTCTCAAGCGCC\n",
    "\n",
    "\n",
    "SmB-A_AT5G44500.1 from excel file (concatenated columns):\n",
    "\n",
    "CATCGACATCTTCAGACTACTAGTTTGATTCGACCCACCGATACCGTTCGTATAATGTATGCTATACGAACGGTATCACAAGTTTGTACAAAAAAGTTGG\n",
    "||||||||| (\"gene\" no mismatches)\n",
    "CATCGACAT\n",
    "         |||||| (common)\n",
    "         CTTCAG\n",
    "               ||| (ACT or GGA)\n",
    "               ACT\n",
    "                  ||||||||||||||||| (common)\n",
    "                  ACTAGTTTGATTCGACC\n",
    "                                   |||| (common)\n",
    "                                   CACC\n",
    "                                       || (common)\n",
    "                                       GA\n",
    "                                         |||||||||||||||||||||||||||||||||| (allow 2 mismatches)\n",
    "                                         TACCGTTCGTATAATGTATGCTATACGAACGGTA\n",
    "                                                                           ||||||||||||||||||||||||| (allow 2 mismatches)\n",
    "                                                                           TCACAAGTTTGTACAAAAAAGTTGG\n",
    "\n",
    "\n",
    "\n",
    "ref_sequence (printed from first read in bam):\n",
    "CATCGACATCTTCAGACTACTAGTTTGATTCGACCCACCGATACCGTTCGTATAATGTATGCTATACGAACGGTATCACAAGTTTGtACAAAAAAGTTGG\n",
    "\n",
    "\n",
    "'''"
   ]
  },
  {
   "cell_type": "code",
   "execution_count": 2,
   "id": "d0b75cb2-dcbb-4699-9e73-2ebb8418f5ea",
   "metadata": {},
   "outputs": [],
   "source": [
    "# Tmp file input\n",
    "bam_file = 'tmp/B1_EKDL230008374.merged.bam'\n",
    "baits_file = 'tmp/Bait_Gateway_AtcDNAlibrary.fas'\n",
    "araport_file = 'tmp/Araport11_cdna_20220914_representative_gene_model.fas'"
   ]
  },
  {
   "cell_type": "code",
   "execution_count": 3,
   "id": "be046f5a-0e5a-42fa-840c-f836b43f0726",
   "metadata": {},
   "outputs": [],
   "source": [
    "# Defaults\n",
    "__version__ = '0.1'\n",
    "min_length_seq_bait_part = 100\n",
    "gene_length_default = 9\n",
    "gene_length = gene_length_default # tmp\n",
    "accepted_index = ['ACT', 'GGA']\n",
    "DEBUG = 1\n",
    "mismatches_default = 2\n",
    "allowed_hd = mismatches_default # tmp\n",
    "threads_default = 4"
   ]
  },
  {
   "cell_type": "code",
   "execution_count": 4,
   "id": "e2ff0a0f-9c8b-4a3d-88c2-a9d9843c4f3d",
   "metadata": {},
   "outputs": [],
   "source": [
    "def hammingDist(seq1, seq2):\n",
    "    \"\"\"\n",
    "    Calculate the Hamming distance in terms of number of changes\n",
    "    Args: seq1 and seq2 (str)\n",
    "    Return: distance (int)\n",
    "    TODO: do we need upper()?\n",
    "    \"\"\"\n",
    "    i = 0\n",
    "    count = 0\n",
    "    while (i < len(seq1)):\n",
    "        if (seq1[i] != seq2[i]):\n",
    "            count += 1\n",
    "        i += 1\n",
    "    return count"
   ]
  },
  {
   "cell_type": "code",
   "execution_count": 5,
   "id": "e4b2d854-fb53-4983-b33f-1feaca1688b7",
   "metadata": {},
   "outputs": [],
   "source": [
    "# Read bam file. Needs to be indexed: `samtools index -@ 8 B1_EKDL230008374.merged.bam`\n",
    "bam = pysam.AlignmentFile(bam_file, 'rb', threads=2)"
   ]
  },
  {
   "cell_type": "code",
   "execution_count": 6,
   "id": "0e070b39-b93e-41fc-8d24-05030994f611",
   "metadata": {},
   "outputs": [],
   "source": [
    "# Read baits file\n",
    "baits = Fasta(baits_file, sequence_always_upper=True)"
   ]
  },
  {
   "cell_type": "code",
   "execution_count": 7,
   "id": "5aaa69ba-cfa3-4d72-abc0-f8615ef7cf74",
   "metadata": {},
   "outputs": [],
   "source": [
    "# Read baits_file and create a hashes with key=SmB-A_AT5G44500.1, value=CATCGACAT (\"gene\") and value=gene_count\n",
    "baits_gene_seq_dict = {}\n",
    "baits_gene_name_dict = {}\n",
    "baits_gene_count_dict = {}\n",
    "\n",
    "for seq in baits:\n",
    "    baits_gene_seq_dict[seq.name] = seq[0:gene_length]\n",
    "    baits_gene_name_dict[str(seq[0:gene_length])] = seq.name\n",
    "    baits_gene_count_dict[seq.name] = 0"
   ]
  },
  {
   "cell_type": "code",
   "execution_count": 8,
   "id": "b22d01a3-40ec-4771-823f-032aa7a10574",
   "metadata": {},
   "outputs": [],
   "source": [
    "# Read araport file\n",
    "araport = Fasta(araport_file, sequence_always_upper=True)"
   ]
  },
  {
   "cell_type": "code",
   "execution_count": 9,
   "id": "8bf320ce-d13a-4566-8d42-bb4bee9d047d",
   "metadata": {},
   "outputs": [],
   "source": [
    "# Tmp counters\n",
    "len_seq_bait_part_ok_counter = 0\n",
    "len_seq_bait_part_not_ok_counter = 0"
   ]
  },
  {
   "cell_type": "code",
   "execution_count": 25,
   "id": "3f204640-537c-46ab-b735-919258855d4c",
   "metadata": {},
   "outputs": [
    {
     "name": "stdout",
     "output_type": "stream",
     "text": [
      "query name  AT1G60950.1:887\n",
      "reference name  SmB-A_AT5G44500.1\n",
      "reference sequence  CATCGACATCTTCAGACTACTAGTTTGATTCGACCCACCGATACCGTTCGTATAATGTATGCTATACGAACGGTATCACAAGTTTGtACAAAAAAGTTGG\n",
      "CATCGACATCTTCAGACTACTAGTTTGATTCGACCCACCGATACCGTTCGTATAATGTATGCTATACGAACGGTATCACAAGTTTGTACAAAAAAGTTGG\n"
     ]
    }
   ],
   "source": [
    "# Test loop\n",
    "for aso in bam.head(1):\n",
    "    #help(aso)\n",
    "    print(\"query name \", aso.query_name)\n",
    "    print(\"reference name \", aso.reference_name)\n",
    "    print(\"reference sequence \", aso.get_reference_sequence())\n",
    "    print(baits[aso.reference_name])"
   ]
  },
  {
   "cell_type": "code",
   "execution_count": 33,
   "id": "93aa77fd-212e-493b-af3d-ca9253cca5b9",
   "metadata": {},
   "outputs": [
    {
     "name": "stdout",
     "output_type": "stream",
     "text": [
      "DEBUG: found gene CATCGACAT in dict\n",
      "DEBUG: found Eco57I CTTCAG\n",
      "DEBUG: found index ACT\n",
      "DEBUG: found linker ACTAGTTTGATTCGACC\n",
      "DEBUG: found index CACC\n",
      "DEBUG: found linker GA\n",
      "DEBUG: found after Gateway recombination TCACAAGTTTGAACAAAAAAGTTGG\n"
     ]
    }
   ],
   "source": [
    "# Big loop\n",
    "## Get aligned sequence object\n",
    "#for aso in bam.fetch():\n",
    "for aso in bam.head(1):\n",
    "    # Bait part\n",
    "    seq_bait_part = Seq(str(aso.query_sequence[aso.query_alignment_start:aso.query_alignment_end]))\n",
    "\n",
    "    # Discard read if length of seq_bait_part is lower than min_length_seq_bait_part (100)\n",
    "    if len(seq_bait_part) < min_length_seq_bait_part:\n",
    "        if DEBUG:\n",
    "            print(f\"Length of seq_bait_part was lower than min_length_seq_bait_part ({len(seq_bait_part)})\")\n",
    "        len_seq_bait_part_not_ok_counter = len_seq_bait_part_not_ok_counter + 1\n",
    "        continue\n",
    "\n",
    "    # Tmp counter\n",
    "    len_seq_bait_part_ok_counter = len_seq_bait_part_ok_counter + 1\n",
    "\n",
    "    # Go through the parts by position and check if OK\n",
    "    # Pos 1-9 is the \"gene\": CATCGACAT, ...\n",
    "    gene_seq = seq_bait_part[0:gene_length]\n",
    "    if baits_gene_name_dict.get(gene_seq) is None:\n",
    "        if DEBUG:\n",
    "            print(f\"DEBUG: did NOT find gene {gene_seq} in dict\")\n",
    "        continue\n",
    "    if DEBUG:\n",
    "        print(f\"DEBUG: found gene {gene_seq} in dict\")\n",
    "\n",
    "    # Pos 10-15 is Eco57I: CTTCAG\n",
    "    if seq_bait_part[9:15] != 'CTTCAG':\n",
    "        if DEBUG:\n",
    "            print(f\"DEBUG: did NOT find Eco57I CTTCAG {seq_bait_part[9:15]}\")\n",
    "        continue\n",
    "    if DEBUG:\n",
    "        print(f\"DEBUG: found Eco57I {seq_bait_part[9:15]}\")\n",
    "\n",
    "    # Pos 16-18 is the index: ACT or GGA\n",
    "    if seq_bait_part[15:18] not in accepted_index:\n",
    "        if DEBUG:\n",
    "            print(f\"DEBUG: index {seq_bait_part[15:18]} NOT accepted.\")\n",
    "        continue\n",
    "    if DEBUG:\n",
    "        print(f\"DEBUG: found index {seq_bait_part[15:18]}\")\n",
    "\n",
    "    # Pos 19-35 is a linker: ACTAGTTTGATTCGACC\n",
    "    if DEBUG:\n",
    "        print(f\"DEBUG: found linker {seq_bait_part[18:35]}\")\n",
    "\n",
    "    # Pos 36-39 is an index: CACC\n",
    "    if DEBUG:\n",
    "        print(f\"DEBUG: found index {seq_bait_part[35:39]}\")\n",
    "\n",
    "    # Pos 40-41 is a linker: GA\n",
    "    if DEBUG:\n",
    "        print(f\"DEBUG: found linker {seq_bait_part[39:41]}\")\n",
    "\n",
    "    # Pos 42-X is lox66/71: TACCGTTCGTATAATGTATGCTATACGAACGGTA\n",
    "    read_lox_seq = seq_bait_part[41:75]\n",
    "    #ref_lox_seq = baits(aso.reference_name)[:] # Get the correct positions from the reference (baits), SmB-A_AT5G44500.1\n",
    "    #hd = hammingDist(read_lox_seq, ref_lox_seq)\n",
    "    #if hd <= allowed_hd:\n",
    "    #    if DEBUG:\n",
    "    #        print(f\"DEBUG: found lox66/71 {seq_bait_part[41:75]}\")\n",
    "\n",
    "    # Pos 75-100 is \"after Gateway recombination\": TCACAAGTTTGTACAAAAAAGTTGG\n",
    "    if DEBUG:\n",
    "        print(f\"DEBUG: found after Gateway recombination {seq_bait_part[75:100]}\")\n",
    "\n",
    "    # If All parts of seq_bait_part are OK:\n",
    "    #   parse Araport part\n",
    "    #\n",
    "    #   Check reading frame for seq_araport_part\n",
    "    #\n",
    "    #   Add to count gene_count\n",
    "    baits_gene_count_dict[aso.reference_name] = baits_gene_count_dict[aso.reference_name] + 1\n",
    "\n",
    "    #   Add info on in frame/out of frame\n",
    "\n",
    "    ## Araport part\n",
    "    #start_araport_part = aso.query_alignment_end\n",
    "    #seq_araport_part = Seq(str(aso.query_sequence[start_araport_part:]))\n",
    "\n",
    "    #query_name = aso.query_name.split(':')[0]   # AT1G60950.1\n",
    "    #seq_araport_db = Seq(str(araport[query_name]))\n",
    "\n",
    "    #alignments = pairwise2.align.localms(seq_araport_part, seq_araport_db, match=2, mismatch=-1, open=-5, extend=-1, one_alignment_only=True)\n",
    "\n",
    "    #for match in alignments:\n",
    "    #    #print(match)\n",
    "    #    print(match.seqA)  # seq_araport_part\n",
    "    #    print(match.start) # Start pos on seq_araport_db\n",
    "    #    print(match.end)   # End pos on seq_araport_db"
   ]
  },
  {
   "cell_type": "code",
   "execution_count": null,
   "id": "2b8a55fd-af2c-41c7-b3b2-999893ccdf81",
   "metadata": {},
   "outputs": [],
   "source": [
    "# End\n",
    "bf.close()\n",
    "\n",
    "print(f\"nr bait length OK: {len_seq_bait_part_ok_counter}\")\n",
    "print(f\"nr bait length not OK: {len_seq_bait_part_not_ok_counter}\")"
   ]
  }
 ],
 "metadata": {
  "kernelspec": {
   "display_name": "Python 3 (ipykernel)",
   "language": "python",
   "name": "python3"
  },
  "language_info": {
   "codemirror_mode": {
    "name": "ipython",
    "version": 3
   },
   "file_extension": ".py",
   "mimetype": "text/x-python",
   "name": "python",
   "nbconvert_exporter": "python",
   "pygments_lexer": "ipython3",
   "version": "3.10.12"
  }
 },
 "nbformat": 4,
 "nbformat_minor": 5
}
